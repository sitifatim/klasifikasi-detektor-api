{
  "nbformat": 4,
  "nbformat_minor": 0,
  "metadata": {
    "colab": {
      "provenance": [],
      "collapsed_sections": []
    },
    "kernelspec": {
      "name": "python3",
      "display_name": "Python 3"
    },
    "language_info": {
      "name": "python"
    }
  },
  "cells": [
    {
      "cell_type": "markdown",
      "source": [
        "# Klasifikasi Deteksi Asap\n",
        "\n",
        "Model klasifikasi yang akan dibuat merupakan model yang dibuat untuk mengklasifikasikan target fire alarm. Dataset yang digunakan merupakan dataset yang berasal dari Kaggle berjudul \"Smoke Detection Dataset\" yang dapat diakses pada [link berikut](https://www.kaggle.com/datasets/deepcontractor/smoke-detection-dataset?datasetId=2424784). \n",
        "\n",
        "![gambar](https://storage.googleapis.com/kaggle-datasets-images/2424784/4100314/43efb850e636fe8f8719a4801215c180/dataset-cover.jpg?t=2022-08-21-06-30-36)\n",
        "\n",
        "Detektor asap adalah perangkat yang mendeteksi asap, biasanya sebagai indikator kebakaran dan berbentuk seperti piringan berdiameter sekitar 150 milimeter (6 inci) dan tebal 25 milimeter (1 inci), tetapi bentuk dan ukurannya bervariasi."
      ],
      "metadata": {
        "id": "IsnTPgoK2hPO"
      }
    },
    {
      "cell_type": "markdown",
      "source": [
        "## Import Libraries"
      ],
      "metadata": {
        "id": "FzzuTuicIr9d"
      }
    },
    {
      "cell_type": "code",
      "execution_count": 47,
      "metadata": {
        "id": "aD9cNe41x4NJ"
      },
      "outputs": [],
      "source": [
        "#Import semua library yang dibutuhkan\n",
        "\n",
        "import pandas as pd\n",
        "import os\n",
        "import zipfile\n",
        "import urllib.request\n",
        "import matplotlib.pyplot as plt\n",
        "import numpy as np\n",
        "from sklearn.metrics import confusion_matrix\n",
        "from sklearn.model_selection import train_test_split\n",
        "import tensorflow as tf\n",
        "from sklearn.svm import SVC\n",
        "from sklearn.neighbors import KNeighborsClassifier\n",
        "from sklearn.preprocessing import StandardScaler\n",
        "from sklearn.metrics import confusion_matrix,classification_report, accuracy_score, mean_squared_error, mean_absolute_error\n",
        "import seaborn as sns\n",
        "from sklearn.ensemble import RandomForestClassifier"
      ]
    },
    {
      "cell_type": "code",
      "source": [
        "os.environ['KAGGLE_CONFIG_DIR'] = \"/content\""
      ],
      "metadata": {
        "id": "TNbONsWkiqXX"
      },
      "execution_count": 2,
      "outputs": []
    },
    {
      "cell_type": "code",
      "source": [
        "#konfigurasi untuk import dataset dari kaggle\n",
        "! chmod 600 /content/kaggle.json"
      ],
      "metadata": {
        "id": "3xUyBXTH6rDD"
      },
      "execution_count": 3,
      "outputs": []
    },
    {
      "cell_type": "code",
      "source": [
        "#download dataset dengan API kaggle\n",
        "! kaggle datasets download -d deepcontractor/smoke-detection-dataset"
      ],
      "metadata": {
        "colab": {
          "base_uri": "https://localhost:8080/"
        },
        "id": "wdBOVA957AYD",
        "outputId": "534c629c-7a83-428b-acab-0da19340f463"
      },
      "execution_count": 4,
      "outputs": [
        {
          "output_type": "stream",
          "name": "stdout",
          "text": [
            "Downloading smoke-detection-dataset.zip to /content\n",
            "\r  0% 0.00/1.64M [00:00<?, ?B/s]\n",
            "\r100% 1.64M/1.64M [00:00<00:00, 141MB/s]\n"
          ]
        }
      ]
    },
    {
      "cell_type": "code",
      "source": [
        "#membuka file zip\n",
        "local_file = '/content/smoke-detection-dataset.zip'\n",
        "zip_ref = zipfile.ZipFile(local_file, 'r')\n",
        "zip_ref.extractall('/content/smoke-detection-dataset')\n",
        "zip_ref.close()"
      ],
      "metadata": {
        "id": "wnu1rwWm7QXe"
      },
      "execution_count": 5,
      "outputs": []
    },
    {
      "cell_type": "markdown",
      "source": [
        "## Data Loading\n"
      ],
      "metadata": {
        "id": "PtS3u7XmlDOZ"
      }
    },
    {
      "cell_type": "code",
      "source": [
        "#deklarasi variabel untuk membaca dataset\n",
        "ds = pd.read_csv('/content/smoke-detection-dataset/smoke_detection_iot.csv')\n",
        "ds"
      ],
      "metadata": {
        "colab": {
          "base_uri": "https://localhost:8080/",
          "height": 485
        },
        "id": "J9yzoL-Q8BPw",
        "outputId": "990ffe32-0929-4b1a-b402-918dd6aeab59"
      },
      "execution_count": 6,
      "outputs": [
        {
          "output_type": "execute_result",
          "data": {
            "text/plain": [
              "       Unnamed: 0         UTC  Temperature[C]  Humidity[%]  TVOC[ppb]  \\\n",
              "0               0  1654733331          20.000        57.36          0   \n",
              "1               1  1654733332          20.015        56.67          0   \n",
              "2               2  1654733333          20.029        55.96          0   \n",
              "3               3  1654733334          20.044        55.28          0   \n",
              "4               4  1654733335          20.059        54.69          0   \n",
              "...           ...         ...             ...          ...        ...   \n",
              "62625       62625  1655130047          18.438        15.79        625   \n",
              "62626       62626  1655130048          18.653        15.87        612   \n",
              "62627       62627  1655130049          18.867        15.84        627   \n",
              "62628       62628  1655130050          19.083        16.04        638   \n",
              "62629       62629  1655130051          19.299        16.52        643   \n",
              "\n",
              "       eCO2[ppm]  Raw H2  Raw Ethanol  Pressure[hPa]  PM1.0  PM2.5  NC0.5  \\\n",
              "0            400   12306        18520        939.735   0.00   0.00   0.00   \n",
              "1            400   12345        18651        939.744   0.00   0.00   0.00   \n",
              "2            400   12374        18764        939.738   0.00   0.00   0.00   \n",
              "3            400   12390        18849        939.736   0.00   0.00   0.00   \n",
              "4            400   12403        18921        939.744   0.00   0.00   0.00   \n",
              "...          ...     ...          ...            ...    ...    ...    ...   \n",
              "62625        400   13723        20569        936.670   0.63   0.65   4.32   \n",
              "62626        400   13731        20588        936.678   0.61   0.63   4.18   \n",
              "62627        400   13725        20582        936.687   0.57   0.60   3.95   \n",
              "62628        400   13712        20566        936.680   0.57   0.59   3.92   \n",
              "62629        400   13696        20543        936.676   0.57   0.59   3.90   \n",
              "\n",
              "       NC1.0  NC2.5   CNT  Fire Alarm  \n",
              "0      0.000  0.000     0           0  \n",
              "1      0.000  0.000     1           0  \n",
              "2      0.000  0.000     2           0  \n",
              "3      0.000  0.000     3           0  \n",
              "4      0.000  0.000     4           0  \n",
              "...      ...    ...   ...         ...  \n",
              "62625  0.673  0.015  5739           0  \n",
              "62626  0.652  0.015  5740           0  \n",
              "62627  0.617  0.014  5741           0  \n",
              "62628  0.611  0.014  5742           0  \n",
              "62629  0.607  0.014  5743           0  \n",
              "\n",
              "[62630 rows x 16 columns]"
            ],
            "text/html": [
              "\n",
              "  <div id=\"df-40a60edd-2ff3-4a3c-a76d-d5267a8b2e88\">\n",
              "    <div class=\"colab-df-container\">\n",
              "      <div>\n",
              "<style scoped>\n",
              "    .dataframe tbody tr th:only-of-type {\n",
              "        vertical-align: middle;\n",
              "    }\n",
              "\n",
              "    .dataframe tbody tr th {\n",
              "        vertical-align: top;\n",
              "    }\n",
              "\n",
              "    .dataframe thead th {\n",
              "        text-align: right;\n",
              "    }\n",
              "</style>\n",
              "<table border=\"1\" class=\"dataframe\">\n",
              "  <thead>\n",
              "    <tr style=\"text-align: right;\">\n",
              "      <th></th>\n",
              "      <th>Unnamed: 0</th>\n",
              "      <th>UTC</th>\n",
              "      <th>Temperature[C]</th>\n",
              "      <th>Humidity[%]</th>\n",
              "      <th>TVOC[ppb]</th>\n",
              "      <th>eCO2[ppm]</th>\n",
              "      <th>Raw H2</th>\n",
              "      <th>Raw Ethanol</th>\n",
              "      <th>Pressure[hPa]</th>\n",
              "      <th>PM1.0</th>\n",
              "      <th>PM2.5</th>\n",
              "      <th>NC0.5</th>\n",
              "      <th>NC1.0</th>\n",
              "      <th>NC2.5</th>\n",
              "      <th>CNT</th>\n",
              "      <th>Fire Alarm</th>\n",
              "    </tr>\n",
              "  </thead>\n",
              "  <tbody>\n",
              "    <tr>\n",
              "      <th>0</th>\n",
              "      <td>0</td>\n",
              "      <td>1654733331</td>\n",
              "      <td>20.000</td>\n",
              "      <td>57.36</td>\n",
              "      <td>0</td>\n",
              "      <td>400</td>\n",
              "      <td>12306</td>\n",
              "      <td>18520</td>\n",
              "      <td>939.735</td>\n",
              "      <td>0.00</td>\n",
              "      <td>0.00</td>\n",
              "      <td>0.00</td>\n",
              "      <td>0.000</td>\n",
              "      <td>0.000</td>\n",
              "      <td>0</td>\n",
              "      <td>0</td>\n",
              "    </tr>\n",
              "    <tr>\n",
              "      <th>1</th>\n",
              "      <td>1</td>\n",
              "      <td>1654733332</td>\n",
              "      <td>20.015</td>\n",
              "      <td>56.67</td>\n",
              "      <td>0</td>\n",
              "      <td>400</td>\n",
              "      <td>12345</td>\n",
              "      <td>18651</td>\n",
              "      <td>939.744</td>\n",
              "      <td>0.00</td>\n",
              "      <td>0.00</td>\n",
              "      <td>0.00</td>\n",
              "      <td>0.000</td>\n",
              "      <td>0.000</td>\n",
              "      <td>1</td>\n",
              "      <td>0</td>\n",
              "    </tr>\n",
              "    <tr>\n",
              "      <th>2</th>\n",
              "      <td>2</td>\n",
              "      <td>1654733333</td>\n",
              "      <td>20.029</td>\n",
              "      <td>55.96</td>\n",
              "      <td>0</td>\n",
              "      <td>400</td>\n",
              "      <td>12374</td>\n",
              "      <td>18764</td>\n",
              "      <td>939.738</td>\n",
              "      <td>0.00</td>\n",
              "      <td>0.00</td>\n",
              "      <td>0.00</td>\n",
              "      <td>0.000</td>\n",
              "      <td>0.000</td>\n",
              "      <td>2</td>\n",
              "      <td>0</td>\n",
              "    </tr>\n",
              "    <tr>\n",
              "      <th>3</th>\n",
              "      <td>3</td>\n",
              "      <td>1654733334</td>\n",
              "      <td>20.044</td>\n",
              "      <td>55.28</td>\n",
              "      <td>0</td>\n",
              "      <td>400</td>\n",
              "      <td>12390</td>\n",
              "      <td>18849</td>\n",
              "      <td>939.736</td>\n",
              "      <td>0.00</td>\n",
              "      <td>0.00</td>\n",
              "      <td>0.00</td>\n",
              "      <td>0.000</td>\n",
              "      <td>0.000</td>\n",
              "      <td>3</td>\n",
              "      <td>0</td>\n",
              "    </tr>\n",
              "    <tr>\n",
              "      <th>4</th>\n",
              "      <td>4</td>\n",
              "      <td>1654733335</td>\n",
              "      <td>20.059</td>\n",
              "      <td>54.69</td>\n",
              "      <td>0</td>\n",
              "      <td>400</td>\n",
              "      <td>12403</td>\n",
              "      <td>18921</td>\n",
              "      <td>939.744</td>\n",
              "      <td>0.00</td>\n",
              "      <td>0.00</td>\n",
              "      <td>0.00</td>\n",
              "      <td>0.000</td>\n",
              "      <td>0.000</td>\n",
              "      <td>4</td>\n",
              "      <td>0</td>\n",
              "    </tr>\n",
              "    <tr>\n",
              "      <th>...</th>\n",
              "      <td>...</td>\n",
              "      <td>...</td>\n",
              "      <td>...</td>\n",
              "      <td>...</td>\n",
              "      <td>...</td>\n",
              "      <td>...</td>\n",
              "      <td>...</td>\n",
              "      <td>...</td>\n",
              "      <td>...</td>\n",
              "      <td>...</td>\n",
              "      <td>...</td>\n",
              "      <td>...</td>\n",
              "      <td>...</td>\n",
              "      <td>...</td>\n",
              "      <td>...</td>\n",
              "      <td>...</td>\n",
              "    </tr>\n",
              "    <tr>\n",
              "      <th>62625</th>\n",
              "      <td>62625</td>\n",
              "      <td>1655130047</td>\n",
              "      <td>18.438</td>\n",
              "      <td>15.79</td>\n",
              "      <td>625</td>\n",
              "      <td>400</td>\n",
              "      <td>13723</td>\n",
              "      <td>20569</td>\n",
              "      <td>936.670</td>\n",
              "      <td>0.63</td>\n",
              "      <td>0.65</td>\n",
              "      <td>4.32</td>\n",
              "      <td>0.673</td>\n",
              "      <td>0.015</td>\n",
              "      <td>5739</td>\n",
              "      <td>0</td>\n",
              "    </tr>\n",
              "    <tr>\n",
              "      <th>62626</th>\n",
              "      <td>62626</td>\n",
              "      <td>1655130048</td>\n",
              "      <td>18.653</td>\n",
              "      <td>15.87</td>\n",
              "      <td>612</td>\n",
              "      <td>400</td>\n",
              "      <td>13731</td>\n",
              "      <td>20588</td>\n",
              "      <td>936.678</td>\n",
              "      <td>0.61</td>\n",
              "      <td>0.63</td>\n",
              "      <td>4.18</td>\n",
              "      <td>0.652</td>\n",
              "      <td>0.015</td>\n",
              "      <td>5740</td>\n",
              "      <td>0</td>\n",
              "    </tr>\n",
              "    <tr>\n",
              "      <th>62627</th>\n",
              "      <td>62627</td>\n",
              "      <td>1655130049</td>\n",
              "      <td>18.867</td>\n",
              "      <td>15.84</td>\n",
              "      <td>627</td>\n",
              "      <td>400</td>\n",
              "      <td>13725</td>\n",
              "      <td>20582</td>\n",
              "      <td>936.687</td>\n",
              "      <td>0.57</td>\n",
              "      <td>0.60</td>\n",
              "      <td>3.95</td>\n",
              "      <td>0.617</td>\n",
              "      <td>0.014</td>\n",
              "      <td>5741</td>\n",
              "      <td>0</td>\n",
              "    </tr>\n",
              "    <tr>\n",
              "      <th>62628</th>\n",
              "      <td>62628</td>\n",
              "      <td>1655130050</td>\n",
              "      <td>19.083</td>\n",
              "      <td>16.04</td>\n",
              "      <td>638</td>\n",
              "      <td>400</td>\n",
              "      <td>13712</td>\n",
              "      <td>20566</td>\n",
              "      <td>936.680</td>\n",
              "      <td>0.57</td>\n",
              "      <td>0.59</td>\n",
              "      <td>3.92</td>\n",
              "      <td>0.611</td>\n",
              "      <td>0.014</td>\n",
              "      <td>5742</td>\n",
              "      <td>0</td>\n",
              "    </tr>\n",
              "    <tr>\n",
              "      <th>62629</th>\n",
              "      <td>62629</td>\n",
              "      <td>1655130051</td>\n",
              "      <td>19.299</td>\n",
              "      <td>16.52</td>\n",
              "      <td>643</td>\n",
              "      <td>400</td>\n",
              "      <td>13696</td>\n",
              "      <td>20543</td>\n",
              "      <td>936.676</td>\n",
              "      <td>0.57</td>\n",
              "      <td>0.59</td>\n",
              "      <td>3.90</td>\n",
              "      <td>0.607</td>\n",
              "      <td>0.014</td>\n",
              "      <td>5743</td>\n",
              "      <td>0</td>\n",
              "    </tr>\n",
              "  </tbody>\n",
              "</table>\n",
              "<p>62630 rows × 16 columns</p>\n",
              "</div>\n",
              "      <button class=\"colab-df-convert\" onclick=\"convertToInteractive('df-40a60edd-2ff3-4a3c-a76d-d5267a8b2e88')\"\n",
              "              title=\"Convert this dataframe to an interactive table.\"\n",
              "              style=\"display:none;\">\n",
              "        \n",
              "  <svg xmlns=\"http://www.w3.org/2000/svg\" height=\"24px\"viewBox=\"0 0 24 24\"\n",
              "       width=\"24px\">\n",
              "    <path d=\"M0 0h24v24H0V0z\" fill=\"none\"/>\n",
              "    <path d=\"M18.56 5.44l.94 2.06.94-2.06 2.06-.94-2.06-.94-.94-2.06-.94 2.06-2.06.94zm-11 1L8.5 8.5l.94-2.06 2.06-.94-2.06-.94L8.5 2.5l-.94 2.06-2.06.94zm10 10l.94 2.06.94-2.06 2.06-.94-2.06-.94-.94-2.06-.94 2.06-2.06.94z\"/><path d=\"M17.41 7.96l-1.37-1.37c-.4-.4-.92-.59-1.43-.59-.52 0-1.04.2-1.43.59L10.3 9.45l-7.72 7.72c-.78.78-.78 2.05 0 2.83L4 21.41c.39.39.9.59 1.41.59.51 0 1.02-.2 1.41-.59l7.78-7.78 2.81-2.81c.8-.78.8-2.07 0-2.86zM5.41 20L4 18.59l7.72-7.72 1.47 1.35L5.41 20z\"/>\n",
              "  </svg>\n",
              "      </button>\n",
              "      \n",
              "  <style>\n",
              "    .colab-df-container {\n",
              "      display:flex;\n",
              "      flex-wrap:wrap;\n",
              "      gap: 12px;\n",
              "    }\n",
              "\n",
              "    .colab-df-convert {\n",
              "      background-color: #E8F0FE;\n",
              "      border: none;\n",
              "      border-radius: 50%;\n",
              "      cursor: pointer;\n",
              "      display: none;\n",
              "      fill: #1967D2;\n",
              "      height: 32px;\n",
              "      padding: 0 0 0 0;\n",
              "      width: 32px;\n",
              "    }\n",
              "\n",
              "    .colab-df-convert:hover {\n",
              "      background-color: #E2EBFA;\n",
              "      box-shadow: 0px 1px 2px rgba(60, 64, 67, 0.3), 0px 1px 3px 1px rgba(60, 64, 67, 0.15);\n",
              "      fill: #174EA6;\n",
              "    }\n",
              "\n",
              "    [theme=dark] .colab-df-convert {\n",
              "      background-color: #3B4455;\n",
              "      fill: #D2E3FC;\n",
              "    }\n",
              "\n",
              "    [theme=dark] .colab-df-convert:hover {\n",
              "      background-color: #434B5C;\n",
              "      box-shadow: 0px 1px 3px 1px rgba(0, 0, 0, 0.15);\n",
              "      filter: drop-shadow(0px 1px 2px rgba(0, 0, 0, 0.3));\n",
              "      fill: #FFFFFF;\n",
              "    }\n",
              "  </style>\n",
              "\n",
              "      <script>\n",
              "        const buttonEl =\n",
              "          document.querySelector('#df-40a60edd-2ff3-4a3c-a76d-d5267a8b2e88 button.colab-df-convert');\n",
              "        buttonEl.style.display =\n",
              "          google.colab.kernel.accessAllowed ? 'block' : 'none';\n",
              "\n",
              "        async function convertToInteractive(key) {\n",
              "          const element = document.querySelector('#df-40a60edd-2ff3-4a3c-a76d-d5267a8b2e88');\n",
              "          const dataTable =\n",
              "            await google.colab.kernel.invokeFunction('convertToInteractive',\n",
              "                                                     [key], {});\n",
              "          if (!dataTable) return;\n",
              "\n",
              "          const docLinkHtml = 'Like what you see? Visit the ' +\n",
              "            '<a target=\"_blank\" href=https://colab.research.google.com/notebooks/data_table.ipynb>data table notebook</a>'\n",
              "            + ' to learn more about interactive tables.';\n",
              "          element.innerHTML = '';\n",
              "          dataTable['output_type'] = 'display_data';\n",
              "          await google.colab.output.renderOutput(dataTable, element);\n",
              "          const docLink = document.createElement('div');\n",
              "          docLink.innerHTML = docLinkHtml;\n",
              "          element.appendChild(docLink);\n",
              "        }\n",
              "      </script>\n",
              "    </div>\n",
              "  </div>\n",
              "  "
            ]
          },
          "metadata": {},
          "execution_count": 6
        }
      ]
    },
    {
      "cell_type": "markdown",
      "source": [
        "Dari data yang sudah ter-load, dapat dilihat bahwa data memiliki 16 kolom dan 62630 records. Adapun 16 kolom tersebut diantaranya ialah Unnamed, UTC, Humidity, TVOC, eCO2, Raw H2, Raw Ethanol, Pressure, PM1.0, PM2.5, NC1.0, NC2.5, CNT, dan Fire Alarm\n",
        "\n",
        "\n",
        "\n",
        "\n",
        "\n"
      ],
      "metadata": {
        "id": "XtfW7Yaxl9yH"
      }
    },
    {
      "cell_type": "markdown",
      "source": [
        "## Deskripsi Variabel\n",
        "\n",
        "\n",
        "Berdasarkan [sumber dataset](https://www.hackster.io/stefanblattmann/real-time-smoke-detection-with-ai-based-sensor-fusion-1086e6), berikut merupakan deskripsi variabel yang ada:\n",
        "* Fire Alarm adalah fitur target, dengan kode 1 berarti menandakan ada api\n",
        "* Temperature adalah suhu dari hasil pengukuran dalam satuan C\n",
        "* Humidity adalah kelembaban dalam satuan %\n",
        "* TVOC adalah Total Volatile Organic Compounds dalam satuan per billions \n",
        "* eCO2 adalah konsentrasi CO2 dengan memiliki perhitungan nilai yang berbeda dari TVCO\n",
        "* Raw H2 adalah hidrogen mentah yang tidak terkompensasi dari bias atau temperatur\n",
        "* Raw Ethanol adalah gas ethanol mentah\n",
        "* Pressure adalah tekanan udara (Air Pressure)\n",
        "* PM 1.0 adalah ukuran partikulat dengan range nilai ukur < 1.0 µm \n",
        "* PM 2.5 adalah ukuran partikulat dengan range ukur 1.0 µm < 2.5 µm\n",
        "* CNT adalah sampel penghitungan\n",
        "* UTC adalah timestamp untuk detik UTC\n",
        "* NC0.5/NC1.0 and NC2.5 adalah besaran konsentrasi partikulat yang berbeda dari PM karena NC memberikan nilai aktual partikel udara. NC memiliki range ukuran < 0.5 µm (NC0.5); 0.5 µm < 1.0 µm (NC1.0); dan 1.0 µm < 2.5 µm (NC2.5);\n",
        "\n"
      ],
      "metadata": {
        "id": "zqcNEJINmvhp"
      }
    },
    {
      "cell_type": "code",
      "source": [
        "ds.info()"
      ],
      "metadata": {
        "colab": {
          "base_uri": "https://localhost:8080/"
        },
        "id": "7FY-pftmmy48",
        "outputId": "00a97d62-1bc3-41d3-f914-0e4410de3ecd"
      },
      "execution_count": 53,
      "outputs": [
        {
          "output_type": "stream",
          "name": "stdout",
          "text": [
            "<class 'pandas.core.frame.DataFrame'>\n",
            "RangeIndex: 62630 entries, 0 to 62629\n",
            "Data columns (total 16 columns):\n",
            " #   Column          Non-Null Count  Dtype  \n",
            "---  ------          --------------  -----  \n",
            " 0   Unnamed: 0      62630 non-null  int64  \n",
            " 1   UTC             62630 non-null  int64  \n",
            " 2   Temperature[C]  62630 non-null  float64\n",
            " 3   Humidity[%]     62630 non-null  float64\n",
            " 4   TVOC[ppb]       62630 non-null  int64  \n",
            " 5   eCO2[ppm]       62630 non-null  int64  \n",
            " 6   Raw H2          62630 non-null  int64  \n",
            " 7   Raw Ethanol     62630 non-null  int64  \n",
            " 8   Pressure[hPa]   62630 non-null  float64\n",
            " 9   PM1.0           62630 non-null  float64\n",
            " 10  PM2.5           62630 non-null  float64\n",
            " 11  NC0.5           62630 non-null  float64\n",
            " 12  NC1.0           62630 non-null  float64\n",
            " 13  NC2.5           62630 non-null  float64\n",
            " 14  CNT             62630 non-null  int64  \n",
            " 15  Fire Alarm      62630 non-null  int64  \n",
            "dtypes: float64(8), int64(8)\n",
            "memory usage: 7.6 MB\n"
          ]
        }
      ]
    },
    {
      "cell_type": "markdown",
      "source": [
        "* Terdapat 6 kolom data numerik tipe data int64 yaitu UTC, TVOC, eCO2, Raw H2, Raw Ethanol, dan CNT yang merupakan data numerik hasil pengukuran sensor\n",
        "* Terdapat 8 kolom data numerik tipe data float64 yaitu Temperature, Humidity, Pressure, PM1.0, PM2.5, NC0.5, NC1.0, dan NC2.5 yang merupakan data numerik hasil pengukuran sensor\n",
        "* Terdapat 1 kolom numerik dengant ipe data int64 yaitu Fire Alarm yang mana merupakan fitur target"
      ],
      "metadata": {
        "id": "_Kr7fKWHruT5"
      }
    },
    {
      "cell_type": "markdown",
      "source": [
        "### Data Cleaning"
      ],
      "metadata": {
        "id": "p44NGBAJABn8"
      }
    },
    {
      "cell_type": "code",
      "source": [
        "#pengecekan apakah data memiliki value kosong\n",
        "print(\"Cek Data \\n\")\n",
        "print(ds.isnull().sum())\n",
        "\n",
        "print(\"\\n Gambar 1. Cek Data\")"
      ],
      "metadata": {
        "colab": {
          "base_uri": "https://localhost:8080/"
        },
        "id": "BH0cc6V2AFaY",
        "outputId": "7f4c72e6-90d4-4bda-fc5d-f09c8acf3cc4"
      },
      "execution_count": 14,
      "outputs": [
        {
          "output_type": "stream",
          "name": "stdout",
          "text": [
            "Cek Data \n",
            "\n",
            "Unnamed: 0        0\n",
            "UTC               0\n",
            "Temperature[C]    0\n",
            "Humidity[%]       0\n",
            "TVOC[ppb]         0\n",
            "eCO2[ppm]         0\n",
            "Raw H2            0\n",
            "Raw Ethanol       0\n",
            "Pressure[hPa]     0\n",
            "PM1.0             0\n",
            "PM2.5             0\n",
            "NC0.5             0\n",
            "NC1.0             0\n",
            "NC2.5             0\n",
            "CNT               0\n",
            "Fire Alarm        0\n",
            "dtype: int64\n",
            "\n",
            " Gambar 1. Cek Data\n"
          ]
        }
      ]
    },
    {
      "cell_type": "markdown",
      "source": [
        "### Numerical Features"
      ],
      "metadata": {
        "id": "uN3LP2I8zYFS"
      }
    },
    {
      "cell_type": "code",
      "source": [
        "#menghitung banyaknya label pada fitur target Fire Alarm\n",
        "sns.countplot(ds['Fire Alarm'])"
      ],
      "metadata": {
        "colab": {
          "base_uri": "https://localhost:8080/",
          "height": 351
        },
        "id": "I3OUEsSMAmr_",
        "outputId": "84a65165-a988-4a2d-fb7b-292b70429ac8"
      },
      "execution_count": 22,
      "outputs": [
        {
          "output_type": "stream",
          "name": "stderr",
          "text": [
            "/usr/local/lib/python3.7/dist-packages/seaborn/_decorators.py:43: FutureWarning: Pass the following variable as a keyword arg: x. From version 0.12, the only valid positional argument will be `data`, and passing other arguments without an explicit keyword will result in an error or misinterpretation.\n",
            "  FutureWarning\n"
          ]
        },
        {
          "output_type": "execute_result",
          "data": {
            "text/plain": [
              "<matplotlib.axes._subplots.AxesSubplot at 0x7fcc556c4590>"
            ]
          },
          "metadata": {},
          "execution_count": 22
        },
        {
          "output_type": "display_data",
          "data": {
            "text/plain": [
              "<Figure size 432x288 with 1 Axes>"
            ],
            "image/png": "[encoded data removed]"
          },
          "metadata": {
            "needs_background": "light"
          }
        }
      ]
    },
    {
      "cell_type": "code",
      "source": [
        "ds.hist(bins=50, figsize=(20,15))\n",
        "plt.show()"
      ],
      "metadata": {
        "colab": {
          "base_uri": "https://localhost:8080/",
          "height": 879
        },
        "id": "IzAmzl-Szclr",
        "outputId": "71b020ea-8b31-49bf-946a-97749cb1fb15"
      },
      "execution_count": 52,
      "outputs": [
        {
          "output_type": "display_data",
          "data": {
            "text/plain": [
              "<Figure size 1440x1080 with 16 Axes>"
            ],
            "image/png": "[encoded data removed]"
          },
          "metadata": {
            "needs_background": "light"
          }
        }
      ]
    },
    {
      "cell_type": "markdown",
      "source": [
        "Dari visualisasi data numerik yang dilakukan didapatkan beberapa informasi yaitu:\n",
        "* Fitur target memiliki dua target yaitu 1 dan 0 dengan jumlah 1 lebih banyak daripada 0\n",
        "* Dari banyaknya fitur, hanya CNT yang memiliki nilai (value tidak 0) di setiap hampir semua datanya. Hal ini mungkin akan berpengaruh pada model."
      ],
      "metadata": {
        "id": "Ba_2jpfz0r-A"
      }
    },
    {
      "cell_type": "markdown",
      "source": [
        "## Pra-processing Dataset\n",
        "Pada tahap ini akan dilakukan seleksi fitur dan normalisasi data"
      ],
      "metadata": {
        "id": "4GZXlM3T8fBO"
      }
    },
    {
      "cell_type": "code",
      "source": [
        "#Split data ke training set dan testing set\n",
        "X = ds.iloc[:,1:15] #menghilangkan kolom unnamed karena itu tidak berguna\n",
        "Y = ds.iloc[:,-1]\n",
        "\n",
        "x_train, x_test,y_train, y_test = train_test_split(X,Y, test_size=0.1, random_state=42)\n",
        "print(x_train.shape)\n",
        "print(x_test.shape)"
      ],
      "metadata": {
        "colab": {
          "base_uri": "https://localhost:8080/"
        },
        "id": "NXhiE0Ec8XzW",
        "outputId": "8ec93c65-1652-439d-9027-e858f4cd1281"
      },
      "execution_count": 23,
      "outputs": [
        {
          "output_type": "stream",
          "name": "stdout",
          "text": [
            "(56367, 14)\n",
            "(6263, 14)\n"
          ]
        }
      ]
    },
    {
      "cell_type": "code",
      "source": [
        "#scaling fitur dari data\n",
        "standar = StandardScaler()\n",
        "x_train = standar.fit_transform(x_train)\n",
        "x_test = standar.transform(x_test)\n",
        "pd.DataFrame(x_train).describe()"
      ],
      "metadata": {
        "colab": {
          "base_uri": "https://localhost:8080/",
          "height": 451
        },
        "id": "V4MSIwgn9kWV",
        "outputId": "5ede8f4c-6680-4ffe-f6ec-74562596822d"
      },
      "execution_count": 24,
      "outputs": [
        {
          "output_type": "execute_result",
          "data": {
            "text/plain": [
              "                 0             1             2             3             4   \\\n",
              "count  5.636700e+04  5.636700e+04  5.636700e+04  5.636700e+04  5.636700e+04   \n",
              "mean   4.879011e-13 -3.201835e-17 -9.771901e-16 -1.865636e-17 -7.941560e-18   \n",
              "std    1.000009e+00  1.000009e+00  1.000009e+00  1.000009e+00  1.000009e+00   \n",
              "min   -7.261942e-01 -2.639866e+00 -4.263847e+00 -2.484343e-01 -1.410816e-01   \n",
              "25%   -4.433116e-01 -3.474666e-01 -1.144749e-01 -2.320579e-01 -1.410816e-01   \n",
              "50%   -2.733471e-01  2.906691e-01  1.810226e-01 -1.229241e-01 -1.410816e-01   \n",
              "75%   -1.309450e-01  6.580901e-01  5.295293e-01 -9.631233e-02 -1.213223e-01   \n",
              "max    3.079307e+00  3.058880e+00  3.006295e+00  7.428033e+00  3.084977e+01   \n",
              "\n",
              "                 5             6             7             8             9   \\\n",
              "count  5.636700e+04  5.636700e+04  5.636700e+04  5.636700e+04  5.636700e+04   \n",
              "mean   1.872254e-15  2.145986e-15 -2.957708e-14 -5.042260e-19  4.033808e-18   \n",
              "std    1.000009e+00  1.000009e+00  1.000009e+00  1.000009e+00  1.000009e+00   \n",
              "min   -8.338736e+00 -7.280331e+00 -5.844934e+00 -1.092002e-01 -9.333661e-02   \n",
              "25%   -4.121591e-01 -5.233900e-01  5.361752e-02 -1.077973e-01 -9.265684e-02   \n",
              "50%   -6.752529e-02 -4.150952e-01  1.408030e-01 -1.072318e-01 -9.238290e-02   \n",
              "75%    6.107433e-01  5.333050e-01  5.940174e-01 -1.069164e-01 -9.223071e-02   \n",
              "max    3.155167e+00  2.717251e+00  9.262243e-01  1.547880e+01  2.295418e+01   \n",
              "\n",
              "                 10            11            12            13  \n",
              "count  5.636700e+04  5.636700e+04  5.636700e+04  5.636700e+04  \n",
              "mean  -1.210143e-17 -1.008452e-18 -3.529582e-18 -6.605361e-17  \n",
              "std    1.000009e+00  1.000009e+00  1.000009e+00  1.000009e+00  \n",
              "min   -1.155264e-01 -9.190977e-02 -7.377116e-02 -1.382893e+00  \n",
              "25%   -1.134416e-01 -9.128148e-02 -7.374064e-02 -9.070171e-01  \n",
              "50%   -1.125968e-01 -9.103026e-02 -7.373047e-02 -1.546101e-01  \n",
              "75%   -1.121332e-01 -9.089129e-02 -7.372399e-02  8.782071e-01  \n",
              "max    1.435202e+01  2.340767e+01  2.769718e+01  1.903529e+00  "
            ],
            "text/html": [
              "\n",
              "  <div id=\"df-278b77f2-c5a4-4e33-8b5d-fbd97a5cb51f\">\n",
              "    <div class=\"colab-df-container\">\n",
              "      <div>\n",
              "<style scoped>\n",
              "    .dataframe tbody tr th:only-of-type {\n",
              "        vertical-align: middle;\n",
              "    }\n",
              "\n",
              "    .dataframe tbody tr th {\n",
              "        vertical-align: top;\n",
              "    }\n",
              "\n",
              "    .dataframe thead th {\n",
              "        text-align: right;\n",
              "    }\n",
              "</style>\n",
              "<table border=\"1\" class=\"dataframe\">\n",
              "  <thead>\n",
              "    <tr style=\"text-align: right;\">\n",
              "      <th></th>\n",
              "      <th>0</th>\n",
              "      <th>1</th>\n",
              "      <th>2</th>\n",
              "      <th>3</th>\n",
              "      <th>4</th>\n",
              "      <th>5</th>\n",
              "      <th>6</th>\n",
              "      <th>7</th>\n",
              "      <th>8</th>\n",
              "      <th>9</th>\n",
              "      <th>10</th>\n",
              "      <th>11</th>\n",
              "      <th>12</th>\n",
              "      <th>13</th>\n",
              "    </tr>\n",
              "  </thead>\n",
              "  <tbody>\n",
              "    <tr>\n",
              "      <th>count</th>\n",
              "      <td>5.636700e+04</td>\n",
              "      <td>5.636700e+04</td>\n",
              "      <td>5.636700e+04</td>\n",
              "      <td>5.636700e+04</td>\n",
              "      <td>5.636700e+04</td>\n",
              "      <td>5.636700e+04</td>\n",
              "      <td>5.636700e+04</td>\n",
              "      <td>5.636700e+04</td>\n",
              "      <td>5.636700e+04</td>\n",
              "      <td>5.636700e+04</td>\n",
              "      <td>5.636700e+04</td>\n",
              "      <td>5.636700e+04</td>\n",
              "      <td>5.636700e+04</td>\n",
              "      <td>5.636700e+04</td>\n",
              "    </tr>\n",
              "    <tr>\n",
              "      <th>mean</th>\n",
              "      <td>4.879011e-13</td>\n",
              "      <td>-3.201835e-17</td>\n",
              "      <td>-9.771901e-16</td>\n",
              "      <td>-1.865636e-17</td>\n",
              "      <td>-7.941560e-18</td>\n",
              "      <td>1.872254e-15</td>\n",
              "      <td>2.145986e-15</td>\n",
              "      <td>-2.957708e-14</td>\n",
              "      <td>-5.042260e-19</td>\n",
              "      <td>4.033808e-18</td>\n",
              "      <td>-1.210143e-17</td>\n",
              "      <td>-1.008452e-18</td>\n",
              "      <td>-3.529582e-18</td>\n",
              "      <td>-6.605361e-17</td>\n",
              "    </tr>\n",
              "    <tr>\n",
              "      <th>std</th>\n",
              "      <td>1.000009e+00</td>\n",
              "      <td>1.000009e+00</td>\n",
              "      <td>1.000009e+00</td>\n",
              "      <td>1.000009e+00</td>\n",
              "      <td>1.000009e+00</td>\n",
              "      <td>1.000009e+00</td>\n",
              "      <td>1.000009e+00</td>\n",
              "      <td>1.000009e+00</td>\n",
              "      <td>1.000009e+00</td>\n",
              "      <td>1.000009e+00</td>\n",
              "      <td>1.000009e+00</td>\n",
              "      <td>1.000009e+00</td>\n",
              "      <td>1.000009e+00</td>\n",
              "      <td>1.000009e+00</td>\n",
              "    </tr>\n",
              "    <tr>\n",
              "      <th>min</th>\n",
              "      <td>-7.261942e-01</td>\n",
              "      <td>-2.639866e+00</td>\n",
              "      <td>-4.263847e+00</td>\n",
              "      <td>-2.484343e-01</td>\n",
              "      <td>-1.410816e-01</td>\n",
              "      <td>-8.338736e+00</td>\n",
              "      <td>-7.280331e+00</td>\n",
              "      <td>-5.844934e+00</td>\n",
              "      <td>-1.092002e-01</td>\n",
              "      <td>-9.333661e-02</td>\n",
              "      <td>-1.155264e-01</td>\n",
              "      <td>-9.190977e-02</td>\n",
              "      <td>-7.377116e-02</td>\n",
              "      <td>-1.382893e+00</td>\n",
              "    </tr>\n",
              "    <tr>\n",
              "      <th>25%</th>\n",
              "      <td>-4.433116e-01</td>\n",
              "      <td>-3.474666e-01</td>\n",
              "      <td>-1.144749e-01</td>\n",
              "      <td>-2.320579e-01</td>\n",
              "      <td>-1.410816e-01</td>\n",
              "      <td>-4.121591e-01</td>\n",
              "      <td>-5.233900e-01</td>\n",
              "      <td>5.361752e-02</td>\n",
              "      <td>-1.077973e-01</td>\n",
              "      <td>-9.265684e-02</td>\n",
              "      <td>-1.134416e-01</td>\n",
              "      <td>-9.128148e-02</td>\n",
              "      <td>-7.374064e-02</td>\n",
              "      <td>-9.070171e-01</td>\n",
              "    </tr>\n",
              "    <tr>\n",
              "      <th>50%</th>\n",
              "      <td>-2.733471e-01</td>\n",
              "      <td>2.906691e-01</td>\n",
              "      <td>1.810226e-01</td>\n",
              "      <td>-1.229241e-01</td>\n",
              "      <td>-1.410816e-01</td>\n",
              "      <td>-6.752529e-02</td>\n",
              "      <td>-4.150952e-01</td>\n",
              "      <td>1.408030e-01</td>\n",
              "      <td>-1.072318e-01</td>\n",
              "      <td>-9.238290e-02</td>\n",
              "      <td>-1.125968e-01</td>\n",
              "      <td>-9.103026e-02</td>\n",
              "      <td>-7.373047e-02</td>\n",
              "      <td>-1.546101e-01</td>\n",
              "    </tr>\n",
              "    <tr>\n",
              "      <th>75%</th>\n",
              "      <td>-1.309450e-01</td>\n",
              "      <td>6.580901e-01</td>\n",
              "      <td>5.295293e-01</td>\n",
              "      <td>-9.631233e-02</td>\n",
              "      <td>-1.213223e-01</td>\n",
              "      <td>6.107433e-01</td>\n",
              "      <td>5.333050e-01</td>\n",
              "      <td>5.940174e-01</td>\n",
              "      <td>-1.069164e-01</td>\n",
              "      <td>-9.223071e-02</td>\n",
              "      <td>-1.121332e-01</td>\n",
              "      <td>-9.089129e-02</td>\n",
              "      <td>-7.372399e-02</td>\n",
              "      <td>8.782071e-01</td>\n",
              "    </tr>\n",
              "    <tr>\n",
              "      <th>max</th>\n",
              "      <td>3.079307e+00</td>\n",
              "      <td>3.058880e+00</td>\n",
              "      <td>3.006295e+00</td>\n",
              "      <td>7.428033e+00</td>\n",
              "      <td>3.084977e+01</td>\n",
              "      <td>3.155167e+00</td>\n",
              "      <td>2.717251e+00</td>\n",
              "      <td>9.262243e-01</td>\n",
              "      <td>1.547880e+01</td>\n",
              "      <td>2.295418e+01</td>\n",
              "      <td>1.435202e+01</td>\n",
              "      <td>2.340767e+01</td>\n",
              "      <td>2.769718e+01</td>\n",
              "      <td>1.903529e+00</td>\n",
              "    </tr>\n",
              "  </tbody>\n",
              "</table>\n",
              "</div>\n",
              "      <button class=\"colab-df-convert\" onclick=\"convertToInteractive('df-278b77f2-c5a4-4e33-8b5d-fbd97a5cb51f')\"\n",
              "              title=\"Convert this dataframe to an interactive table.\"\n",
              "              style=\"display:none;\">\n",
              "        \n",
              "  <svg xmlns=\"http://www.w3.org/2000/svg\" height=\"24px\"viewBox=\"0 0 24 24\"\n",
              "       width=\"24px\">\n",
              "    <path d=\"M0 0h24v24H0V0z\" fill=\"none\"/>\n",
              "    <path d=\"M18.56 5.44l.94 2.06.94-2.06 2.06-.94-2.06-.94-.94-2.06-.94 2.06-2.06.94zm-11 1L8.5 8.5l.94-2.06 2.06-.94-2.06-.94L8.5 2.5l-.94 2.06-2.06.94zm10 10l.94 2.06.94-2.06 2.06-.94-2.06-.94-.94-2.06-.94 2.06-2.06.94z\"/><path d=\"M17.41 7.96l-1.37-1.37c-.4-.4-.92-.59-1.43-.59-.52 0-1.04.2-1.43.59L10.3 9.45l-7.72 7.72c-.78.78-.78 2.05 0 2.83L4 21.41c.39.39.9.59 1.41.59.51 0 1.02-.2 1.41-.59l7.78-7.78 2.81-2.81c.8-.78.8-2.07 0-2.86zM5.41 20L4 18.59l7.72-7.72 1.47 1.35L5.41 20z\"/>\n",
              "  </svg>\n",
              "      </button>\n",
              "      \n",
              "  <style>\n",
              "    .colab-df-container {\n",
              "      display:flex;\n",
              "      flex-wrap:wrap;\n",
              "      gap: 12px;\n",
              "    }\n",
              "\n",
              "    .colab-df-convert {\n",
              "      background-color: #E8F0FE;\n",
              "      border: none;\n",
              "      border-radius: 50%;\n",
              "      cursor: pointer;\n",
              "      display: none;\n",
              "      fill: #1967D2;\n",
              "      height: 32px;\n",
              "      padding: 0 0 0 0;\n",
              "      width: 32px;\n",
              "    }\n",
              "\n",
              "    .colab-df-convert:hover {\n",
              "      background-color: #E2EBFA;\n",
              "      box-shadow: 0px 1px 2px rgba(60, 64, 67, 0.3), 0px 1px 3px 1px rgba(60, 64, 67, 0.15);\n",
              "      fill: #174EA6;\n",
              "    }\n",
              "\n",
              "    [theme=dark] .colab-df-convert {\n",
              "      background-color: #3B4455;\n",
              "      fill: #D2E3FC;\n",
              "    }\n",
              "\n",
              "    [theme=dark] .colab-df-convert:hover {\n",
              "      background-color: #434B5C;\n",
              "      box-shadow: 0px 1px 3px 1px rgba(0, 0, 0, 0.15);\n",
              "      filter: drop-shadow(0px 1px 2px rgba(0, 0, 0, 0.3));\n",
              "      fill: #FFFFFF;\n",
              "    }\n",
              "  </style>\n",
              "\n",
              "      <script>\n",
              "        const buttonEl =\n",
              "          document.querySelector('#df-278b77f2-c5a4-4e33-8b5d-fbd97a5cb51f button.colab-df-convert');\n",
              "        buttonEl.style.display =\n",
              "          google.colab.kernel.accessAllowed ? 'block' : 'none';\n",
              "\n",
              "        async function convertToInteractive(key) {\n",
              "          const element = document.querySelector('#df-278b77f2-c5a4-4e33-8b5d-fbd97a5cb51f');\n",
              "          const dataTable =\n",
              "            await google.colab.kernel.invokeFunction('convertToInteractive',\n",
              "                                                     [key], {});\n",
              "          if (!dataTable) return;\n",
              "\n",
              "          const docLinkHtml = 'Like what you see? Visit the ' +\n",
              "            '<a target=\"_blank\" href=https://colab.research.google.com/notebooks/data_table.ipynb>data table notebook</a>'\n",
              "            + ' to learn more about interactive tables.';\n",
              "          element.innerHTML = '';\n",
              "          dataTable['output_type'] = 'display_data';\n",
              "          await google.colab.output.renderOutput(dataTable, element);\n",
              "          const docLink = document.createElement('div');\n",
              "          docLink.innerHTML = docLinkHtml;\n",
              "          element.appendChild(docLink);\n",
              "        }\n",
              "      </script>\n",
              "    </div>\n",
              "  </div>\n",
              "  "
            ]
          },
          "metadata": {},
          "execution_count": 24
        }
      ]
    },
    {
      "cell_type": "markdown",
      "source": [
        "## Training Model\n",
        "Model yang akan dibuat menggunakan algoritma K-Nearest Neighbor, Support Vector Machine, dan Random Forest"
      ],
      "metadata": {
        "id": "0EN5qYCzBisd"
      }
    },
    {
      "cell_type": "markdown",
      "source": [
        "### K-Nearest Neighbors"
      ],
      "metadata": {
        "id": "cP4m9r-VCWjn"
      }
    },
    {
      "cell_type": "code",
      "source": [
        "knn = KNeighborsClassifier(n_neighbors=43)\n",
        "knn.fit(x_train,y_train)"
      ],
      "metadata": {
        "colab": {
          "base_uri": "https://localhost:8080/"
        },
        "id": "r_nTW9aNBJlW",
        "outputId": "56c43f06-ac91-4dfb-e405-932879556d9d"
      },
      "execution_count": 25,
      "outputs": [
        {
          "output_type": "execute_result",
          "data": {
            "text/plain": [
              "KNeighborsClassifier(n_neighbors=43)"
            ]
          },
          "metadata": {},
          "execution_count": 25
        }
      ]
    },
    {
      "cell_type": "code",
      "source": [
        "#akurasi train set dan test set\n",
        "knn_train_acc = accuracy_score(y_train, knn.predict(x_train))\n",
        "print(\"Akurasi data training adalah: \", knn_train_acc)\n",
        "knn_test_acc = accuracy_score(y_test, knn.predict(x_test))\n",
        "print(\"Akurasi data testing adalah: \", knn_test_acc)"
      ],
      "metadata": {
        "colab": {
          "base_uri": "https://localhost:8080/"
        },
        "id": "bhmxcvgB4eqK",
        "outputId": "108809a5-ee9d-4e92-ae8d-3a15df591abc"
      },
      "execution_count": 26,
      "outputs": [
        {
          "output_type": "stream",
          "name": "stdout",
          "text": [
            "Akurasi data training adalah:  0.9992371422995724\n",
            "Akurasi data testing adalah:  0.9995209963276385\n"
          ]
        }
      ]
    },
    {
      "cell_type": "code",
      "source": [
        "#memprediksi test set\n",
        "cm_knn_2=confusion_matrix(y_test, knn.predict(x_test))"
      ],
      "metadata": {
        "id": "fMBomF0vChXq"
      },
      "execution_count": 27,
      "outputs": []
    },
    {
      "cell_type": "code",
      "source": [
        "cm = sns.heatmap(cm_knn_2, annot=True, cmap='Pastel1')\n",
        "\n",
        "#mengatur titel\n",
        "cm.set_title('Confusion Matrix Test Set\\n\\n');\n",
        "cm.set_xlabel('\\nPredicted Values')\n",
        "cm.set_ylabel('Actual Values ');\n",
        "\n",
        "#mengatur label x dan y \n",
        "cm.xaxis.set_ticklabels(['False','True'])\n",
        "cm.yaxis.set_ticklabels(['False','True'])\n",
        "\n",
        "plt.show()"
      ],
      "metadata": {
        "colab": {
          "base_uri": "https://localhost:8080/",
          "height": 337
        },
        "id": "3lNMZ8yIB-Fl",
        "outputId": "73e01536-319c-4f04-b8f4-c0c8e712fd44"
      },
      "execution_count": 28,
      "outputs": [
        {
          "output_type": "display_data",
          "data": {
            "text/plain": [
              "<Figure size 432x288 with 2 Axes>"
            ],
            "image/png": "[encoded data removed]"
          },
          "metadata": {
            "needs_background": "light"
          }
        }
      ]
    },
    {
      "cell_type": "markdown",
      "source": [
        "### Support Vector Machine"
      ],
      "metadata": {
        "id": "5fxwoQiJCR_A"
      }
    },
    {
      "cell_type": "code",
      "source": [
        "svm = SVC(C=1,kernel='rbf')\n",
        "svm.fit(x_train,y_train)"
      ],
      "metadata": {
        "colab": {
          "base_uri": "https://localhost:8080/"
        },
        "id": "Ln8SRQqGCKkC",
        "outputId": "f628c494-e07f-4e4e-d6e5-b9ec8f6eab47"
      },
      "execution_count": 29,
      "outputs": [
        {
          "output_type": "execute_result",
          "data": {
            "text/plain": [
              "SVC(C=1)"
            ]
          },
          "metadata": {},
          "execution_count": 29
        }
      ]
    },
    {
      "cell_type": "code",
      "source": [
        "svm_train_acc = accuracy_score(y_train, svm.predict(x_train))\n",
        "print(\"Akurasi data training adalah: \", svm_train_acc)\n",
        "svm_test_acc = accuracy_score(y_test, svm.predict(x_test))\n",
        "print(\"Akurasi data testing adalah: \", svm_test_acc)"
      ],
      "metadata": {
        "colab": {
          "base_uri": "https://localhost:8080/"
        },
        "id": "bRC6HygE5o1O",
        "outputId": "9ed50691-c116-4ea4-89de-224a11c60c2d"
      },
      "execution_count": 30,
      "outputs": [
        {
          "output_type": "stream",
          "name": "stdout",
          "text": [
            "Akurasi data training adalah:  0.9996806642184257\n",
            "Akurasi data testing adalah:  0.9998403321092129\n"
          ]
        }
      ]
    },
    {
      "cell_type": "code",
      "source": [
        "#memprediksi test set\n",
        "cm_svm_2=confusion_matrix(y_test, svm.predict(x_test))"
      ],
      "metadata": {
        "id": "BOBYsjNvEjAO"
      },
      "execution_count": 31,
      "outputs": []
    },
    {
      "cell_type": "code",
      "source": [
        "cm = sns.heatmap(cm_svm_2, annot=True, cmap='Pastel1')\n",
        "\n",
        "#mengatur titel\n",
        "cm.set_title('Confusion Matrix Test Set\\n\\n');\n",
        "cm.set_xlabel('\\nPredicted Values')\n",
        "cm.set_ylabel('Actual Values ');\n",
        "\n",
        "#mengatur label x dan y \n",
        "cm.xaxis.set_ticklabels(['False','True'])\n",
        "cm.yaxis.set_ticklabels(['False','True'])\n",
        "\n",
        "plt.show()"
      ],
      "metadata": {
        "colab": {
          "base_uri": "https://localhost:8080/",
          "height": 337
        },
        "id": "QOKU_9SMEm5Y",
        "outputId": "33787183-4053-438b-add2-a24997a0bf38"
      },
      "execution_count": 32,
      "outputs": [
        {
          "output_type": "display_data",
          "data": {
            "text/plain": [
              "<Figure size 432x288 with 2 Axes>"
            ],
            "image/png": "[encoded data removed]"
          },
          "metadata": {
            "needs_background": "light"
          }
        }
      ]
    },
    {
      "cell_type": "markdown",
      "source": [
        "### Random Forest"
      ],
      "metadata": {
        "id": "LJ_qfj5jFYJv"
      }
    },
    {
      "cell_type": "code",
      "source": [
        "rf= RandomForestClassifier(n_estimators= 100, n_jobs = -1, random_state = 30)\n",
        "rf.fit(x_train,y_train)"
      ],
      "metadata": {
        "colab": {
          "base_uri": "https://localhost:8080/"
        },
        "id": "u6K2pusKFfI0",
        "outputId": "331f8bdd-2635-41b6-fdd3-0343d38d4988"
      },
      "execution_count": 33,
      "outputs": [
        {
          "output_type": "execute_result",
          "data": {
            "text/plain": [
              "RandomForestClassifier(n_jobs=-1, random_state=30)"
            ]
          },
          "metadata": {},
          "execution_count": 33
        }
      ]
    },
    {
      "cell_type": "code",
      "source": [
        "#akurasi train set dan test set\n",
        "rf_train_acc = accuracy_score(y_train, rf.predict(x_train))\n",
        "print(\"Akurasi data training adalah: \", rf_train_acc)\n",
        "rf_test_acc = accuracy_score(y_test, rf.predict(x_test))\n",
        "print(\"Akurasi data testing adalah: \", rf_test_acc)"
      ],
      "metadata": {
        "colab": {
          "base_uri": "https://localhost:8080/"
        },
        "id": "_t82oxdfGAff",
        "outputId": "74c1e4e1-5d7c-47b3-bf41-1dfeca5d0ebd"
      },
      "execution_count": 39,
      "outputs": [
        {
          "output_type": "stream",
          "name": "stdout",
          "text": [
            "Akurasi data training adalah:  1.0\n",
            "Akurasi data testing adalah:  1.0\n"
          ]
        }
      ]
    },
    {
      "cell_type": "code",
      "source": [
        "#memprediksi test set\n",
        "cm_rf_2=confusion_matrix(y_test, rf.predict(x_test))"
      ],
      "metadata": {
        "id": "JtpMzRo1GLsu"
      },
      "execution_count": 40,
      "outputs": []
    },
    {
      "cell_type": "code",
      "source": [
        "cm = sns.heatmap(cm_rf_2, annot=True, cmap='Pastel1')\n",
        "\n",
        "#mengatur titel\n",
        "cm.set_title('Confusion Matrix Test Set\\n\\n');\n",
        "cm.set_xlabel('\\nPredicted Values')\n",
        "cm.set_ylabel('Actual Values ');\n",
        "\n",
        "#mengatur label x dan y \n",
        "cm.xaxis.set_ticklabels(['False','True'])\n",
        "cm.yaxis.set_ticklabels(['False','True'])\n",
        "\n",
        "plt.show()"
      ],
      "metadata": {
        "colab": {
          "base_uri": "https://localhost:8080/",
          "height": 337
        },
        "id": "2OYRPvMKGPxR",
        "outputId": "f29faea0-aa5d-4bde-ddf1-de69b2cf2950"
      },
      "execution_count": 41,
      "outputs": [
        {
          "output_type": "display_data",
          "data": {
            "text/plain": [
              "<Figure size 432x288 with 2 Axes>"
            ],
            "image/png": "[encoded data removed]"
          },
          "metadata": {
            "needs_background": "light"
          }
        }
      ]
    },
    {
      "cell_type": "markdown",
      "source": [
        "## Model Evaluation"
      ],
      "metadata": {
        "id": "bbK_6HJ86EEv"
      }
    },
    {
      "cell_type": "markdown",
      "source": [
        "### Perbandingan Akurasi Model"
      ],
      "metadata": {
        "id": "R7mSe92AYzMy"
      }
    },
    {
      "cell_type": "code",
      "source": [
        "#variabel dataframe nilai akurasi data train dan test pada masing-masing algoritma\n",
        "acc = pd.DataFrame(columns=['train', 'test'], index=['KNN','SVM', 'RF'])\n",
        " \n",
        "#dictionary untuk setiap algoritma yang digunakan\n",
        "model_dict = {'KNN': knn, 'SVM': svm, 'RF':rf}\n",
        "\n",
        "#akurasi masing-masing algoritma pada data train dan test\n",
        "for name, model in model_dict.items():\n",
        "  acc.loc[name, 'train'] = accuracy_score(y_true=y_train, y_pred=model.predict(x_train))\n",
        "  acc.loc[name, 'test'] = accuracy_score(y_true=y_test, y_pred=model.predict(x_test))"
      ],
      "metadata": {
        "id": "T0_67Fdi5yMx"
      },
      "execution_count": 34,
      "outputs": []
    },
    {
      "cell_type": "code",
      "source": [
        "#memanggil nilai perbandingan akurasi\n",
        "acc"
      ],
      "metadata": {
        "colab": {
          "base_uri": "https://localhost:8080/",
          "height": 143
        },
        "id": "Masm3GhZ67_j",
        "outputId": "5553d3e0-101a-45c1-87f0-8daca959fa07"
      },
      "execution_count": 36,
      "outputs": [
        {
          "output_type": "execute_result",
          "data": {
            "text/plain": [
              "        train      test\n",
              "KNN  0.999237  0.999521\n",
              "SVM  0.999681   0.99984\n",
              "RF        1.0       1.0"
            ],
            "text/html": [
              "\n",
              "  <div id=\"df-4cbd8bba-a331-403b-b21a-6d2526ff384b\">\n",
              "    <div class=\"colab-df-container\">\n",
              "      <div>\n",
              "<style scoped>\n",
              "    .dataframe tbody tr th:only-of-type {\n",
              "        vertical-align: middle;\n",
              "    }\n",
              "\n",
              "    .dataframe tbody tr th {\n",
              "        vertical-align: top;\n",
              "    }\n",
              "\n",
              "    .dataframe thead th {\n",
              "        text-align: right;\n",
              "    }\n",
              "</style>\n",
              "<table border=\"1\" class=\"dataframe\">\n",
              "  <thead>\n",
              "    <tr style=\"text-align: right;\">\n",
              "      <th></th>\n",
              "      <th>train</th>\n",
              "      <th>test</th>\n",
              "    </tr>\n",
              "  </thead>\n",
              "  <tbody>\n",
              "    <tr>\n",
              "      <th>KNN</th>\n",
              "      <td>0.999237</td>\n",
              "      <td>0.999521</td>\n",
              "    </tr>\n",
              "    <tr>\n",
              "      <th>SVM</th>\n",
              "      <td>0.999681</td>\n",
              "      <td>0.99984</td>\n",
              "    </tr>\n",
              "    <tr>\n",
              "      <th>RF</th>\n",
              "      <td>1.0</td>\n",
              "      <td>1.0</td>\n",
              "    </tr>\n",
              "  </tbody>\n",
              "</table>\n",
              "</div>\n",
              "      <button class=\"colab-df-convert\" onclick=\"convertToInteractive('df-4cbd8bba-a331-403b-b21a-6d2526ff384b')\"\n",
              "              title=\"Convert this dataframe to an interactive table.\"\n",
              "              style=\"display:none;\">\n",
              "        \n",
              "  <svg xmlns=\"http://www.w3.org/2000/svg\" height=\"24px\"viewBox=\"0 0 24 24\"\n",
              "       width=\"24px\">\n",
              "    <path d=\"M0 0h24v24H0V0z\" fill=\"none\"/>\n",
              "    <path d=\"M18.56 5.44l.94 2.06.94-2.06 2.06-.94-2.06-.94-.94-2.06-.94 2.06-2.06.94zm-11 1L8.5 8.5l.94-2.06 2.06-.94-2.06-.94L8.5 2.5l-.94 2.06-2.06.94zm10 10l.94 2.06.94-2.06 2.06-.94-2.06-.94-.94-2.06-.94 2.06-2.06.94z\"/><path d=\"M17.41 7.96l-1.37-1.37c-.4-.4-.92-.59-1.43-.59-.52 0-1.04.2-1.43.59L10.3 9.45l-7.72 7.72c-.78.78-.78 2.05 0 2.83L4 21.41c.39.39.9.59 1.41.59.51 0 1.02-.2 1.41-.59l7.78-7.78 2.81-2.81c.8-.78.8-2.07 0-2.86zM5.41 20L4 18.59l7.72-7.72 1.47 1.35L5.41 20z\"/>\n",
              "  </svg>\n",
              "      </button>\n",
              "      \n",
              "  <style>\n",
              "    .colab-df-container {\n",
              "      display:flex;\n",
              "      flex-wrap:wrap;\n",
              "      gap: 12px;\n",
              "    }\n",
              "\n",
              "    .colab-df-convert {\n",
              "      background-color: #E8F0FE;\n",
              "      border: none;\n",
              "      border-radius: 50%;\n",
              "      cursor: pointer;\n",
              "      display: none;\n",
              "      fill: #1967D2;\n",
              "      height: 32px;\n",
              "      padding: 0 0 0 0;\n",
              "      width: 32px;\n",
              "    }\n",
              "\n",
              "    .colab-df-convert:hover {\n",
              "      background-color: #E2EBFA;\n",
              "      box-shadow: 0px 1px 2px rgba(60, 64, 67, 0.3), 0px 1px 3px 1px rgba(60, 64, 67, 0.15);\n",
              "      fill: #174EA6;\n",
              "    }\n",
              "\n",
              "    [theme=dark] .colab-df-convert {\n",
              "      background-color: #3B4455;\n",
              "      fill: #D2E3FC;\n",
              "    }\n",
              "\n",
              "    [theme=dark] .colab-df-convert:hover {\n",
              "      background-color: #434B5C;\n",
              "      box-shadow: 0px 1px 3px 1px rgba(0, 0, 0, 0.15);\n",
              "      filter: drop-shadow(0px 1px 2px rgba(0, 0, 0, 0.3));\n",
              "      fill: #FFFFFF;\n",
              "    }\n",
              "  </style>\n",
              "\n",
              "      <script>\n",
              "        const buttonEl =\n",
              "          document.querySelector('#df-4cbd8bba-a331-403b-b21a-6d2526ff384b button.colab-df-convert');\n",
              "        buttonEl.style.display =\n",
              "          google.colab.kernel.accessAllowed ? 'block' : 'none';\n",
              "\n",
              "        async function convertToInteractive(key) {\n",
              "          const element = document.querySelector('#df-4cbd8bba-a331-403b-b21a-6d2526ff384b');\n",
              "          const dataTable =\n",
              "            await google.colab.kernel.invokeFunction('convertToInteractive',\n",
              "                                                     [key], {});\n",
              "          if (!dataTable) return;\n",
              "\n",
              "          const docLinkHtml = 'Like what you see? Visit the ' +\n",
              "            '<a target=\"_blank\" href=https://colab.research.google.com/notebooks/data_table.ipynb>data table notebook</a>'\n",
              "            + ' to learn more about interactive tables.';\n",
              "          element.innerHTML = '';\n",
              "          dataTable['output_type'] = 'display_data';\n",
              "          await google.colab.output.renderOutput(dataTable, element);\n",
              "          const docLink = document.createElement('div');\n",
              "          docLink.innerHTML = docLinkHtml;\n",
              "          element.appendChild(docLink);\n",
              "        }\n",
              "      </script>\n",
              "    </div>\n",
              "  </div>\n",
              "  "
            ]
          },
          "metadata": {},
          "execution_count": 36
        }
      ]
    },
    {
      "cell_type": "code",
      "source": [
        "#plot grafik\n",
        "fig, ax = plt.subplots()\n",
        "acc.sort_values(by='test', ascending=False).plot(kind='barh', ax=ax, zorder=3)\n",
        "ax.grid(zorder=0)"
      ],
      "metadata": {
        "colab": {
          "base_uri": "https://localhost:8080/",
          "height": 265
        },
        "id": "mXxalo5T7Coc",
        "outputId": "75abfd13-b7fa-4a9b-ae52-1a5937b1dedf"
      },
      "execution_count": 37,
      "outputs": [
        {
          "output_type": "display_data",
          "data": {
            "text/plain": [
              "<Figure size 432x288 with 1 Axes>"
            ],
            "image/png": "[encoded data removed]"
          },
          "metadata": {
            "needs_background": "light"
          }
        }
      ]
    },
    {
      "cell_type": "markdown",
      "source": [
        "### Perbandingan MAE (Mean Absolute Error)"
      ],
      "metadata": {
        "id": "e4Z-v6jDapWi"
      }
    },
    {
      "cell_type": "code",
      "source": [
        "#variabel dataframe nilai akurasi data train dan test pada masing-masing algoritma\n",
        "mae = pd.DataFrame(columns=['train', 'test'], index=['KNN','SVM', 'RF'])\n",
        " \n",
        "#dictionary untuk setiap algoritma yang digunakan\n",
        "model_dict = {'KNN': knn, 'SVM': svm, 'RF':rf}\n",
        "\n",
        "#mae masing-masing algoritma pada data train dan test\n",
        "for name, model in model_dict.items():\n",
        "  mae.loc[name, 'train'] = mean_absolute_error(y_true=y_train, y_pred=model.predict(x_train))\n",
        "  mae.loc[name, 'test'] = mean_absolute_error(y_true=y_test, y_pred=model.predict(x_test))"
      ],
      "metadata": {
        "id": "GgzbZU5baCOc"
      },
      "execution_count": 50,
      "outputs": []
    },
    {
      "cell_type": "code",
      "source": [
        "mae"
      ],
      "metadata": {
        "colab": {
          "base_uri": "https://localhost:8080/",
          "height": 143
        },
        "id": "TD-hUlNWam3l",
        "outputId": "77ae8023-64ea-4ae8-ad96-74cd9d825555"
      },
      "execution_count": 51,
      "outputs": [
        {
          "output_type": "execute_result",
          "data": {
            "text/plain": [
              "        train      test\n",
              "KNN  0.000763  0.000479\n",
              "SVM  0.000319   0.00016\n",
              "RF        0.0       0.0"
            ],
            "text/html": [
              "\n",
              "  <div id=\"df-7af07b8c-1f6e-4cd0-8de9-2f010aa48916\">\n",
              "    <div class=\"colab-df-container\">\n",
              "      <div>\n",
              "<style scoped>\n",
              "    .dataframe tbody tr th:only-of-type {\n",
              "        vertical-align: middle;\n",
              "    }\n",
              "\n",
              "    .dataframe tbody tr th {\n",
              "        vertical-align: top;\n",
              "    }\n",
              "\n",
              "    .dataframe thead th {\n",
              "        text-align: right;\n",
              "    }\n",
              "</style>\n",
              "<table border=\"1\" class=\"dataframe\">\n",
              "  <thead>\n",
              "    <tr style=\"text-align: right;\">\n",
              "      <th></th>\n",
              "      <th>train</th>\n",
              "      <th>test</th>\n",
              "    </tr>\n",
              "  </thead>\n",
              "  <tbody>\n",
              "    <tr>\n",
              "      <th>KNN</th>\n",
              "      <td>0.000763</td>\n",
              "      <td>0.000479</td>\n",
              "    </tr>\n",
              "    <tr>\n",
              "      <th>SVM</th>\n",
              "      <td>0.000319</td>\n",
              "      <td>0.00016</td>\n",
              "    </tr>\n",
              "    <tr>\n",
              "      <th>RF</th>\n",
              "      <td>0.0</td>\n",
              "      <td>0.0</td>\n",
              "    </tr>\n",
              "  </tbody>\n",
              "</table>\n",
              "</div>\n",
              "      <button class=\"colab-df-convert\" onclick=\"convertToInteractive('df-7af07b8c-1f6e-4cd0-8de9-2f010aa48916')\"\n",
              "              title=\"Convert this dataframe to an interactive table.\"\n",
              "              style=\"display:none;\">\n",
              "        \n",
              "  <svg xmlns=\"http://www.w3.org/2000/svg\" height=\"24px\"viewBox=\"0 0 24 24\"\n",
              "       width=\"24px\">\n",
              "    <path d=\"M0 0h24v24H0V0z\" fill=\"none\"/>\n",
              "    <path d=\"M18.56 5.44l.94 2.06.94-2.06 2.06-.94-2.06-.94-.94-2.06-.94 2.06-2.06.94zm-11 1L8.5 8.5l.94-2.06 2.06-.94-2.06-.94L8.5 2.5l-.94 2.06-2.06.94zm10 10l.94 2.06.94-2.06 2.06-.94-2.06-.94-.94-2.06-.94 2.06-2.06.94z\"/><path d=\"M17.41 7.96l-1.37-1.37c-.4-.4-.92-.59-1.43-.59-.52 0-1.04.2-1.43.59L10.3 9.45l-7.72 7.72c-.78.78-.78 2.05 0 2.83L4 21.41c.39.39.9.59 1.41.59.51 0 1.02-.2 1.41-.59l7.78-7.78 2.81-2.81c.8-.78.8-2.07 0-2.86zM5.41 20L4 18.59l7.72-7.72 1.47 1.35L5.41 20z\"/>\n",
              "  </svg>\n",
              "      </button>\n",
              "      \n",
              "  <style>\n",
              "    .colab-df-container {\n",
              "      display:flex;\n",
              "      flex-wrap:wrap;\n",
              "      gap: 12px;\n",
              "    }\n",
              "\n",
              "    .colab-df-convert {\n",
              "      background-color: #E8F0FE;\n",
              "      border: none;\n",
              "      border-radius: 50%;\n",
              "      cursor: pointer;\n",
              "      display: none;\n",
              "      fill: #1967D2;\n",
              "      height: 32px;\n",
              "      padding: 0 0 0 0;\n",
              "      width: 32px;\n",
              "    }\n",
              "\n",
              "    .colab-df-convert:hover {\n",
              "      background-color: #E2EBFA;\n",
              "      box-shadow: 0px 1px 2px rgba(60, 64, 67, 0.3), 0px 1px 3px 1px rgba(60, 64, 67, 0.15);\n",
              "      fill: #174EA6;\n",
              "    }\n",
              "\n",
              "    [theme=dark] .colab-df-convert {\n",
              "      background-color: #3B4455;\n",
              "      fill: #D2E3FC;\n",
              "    }\n",
              "\n",
              "    [theme=dark] .colab-df-convert:hover {\n",
              "      background-color: #434B5C;\n",
              "      box-shadow: 0px 1px 3px 1px rgba(0, 0, 0, 0.15);\n",
              "      filter: drop-shadow(0px 1px 2px rgba(0, 0, 0, 0.3));\n",
              "      fill: #FFFFFF;\n",
              "    }\n",
              "  </style>\n",
              "\n",
              "      <script>\n",
              "        const buttonEl =\n",
              "          document.querySelector('#df-7af07b8c-1f6e-4cd0-8de9-2f010aa48916 button.colab-df-convert');\n",
              "        buttonEl.style.display =\n",
              "          google.colab.kernel.accessAllowed ? 'block' : 'none';\n",
              "\n",
              "        async function convertToInteractive(key) {\n",
              "          const element = document.querySelector('#df-7af07b8c-1f6e-4cd0-8de9-2f010aa48916');\n",
              "          const dataTable =\n",
              "            await google.colab.kernel.invokeFunction('convertToInteractive',\n",
              "                                                     [key], {});\n",
              "          if (!dataTable) return;\n",
              "\n",
              "          const docLinkHtml = 'Like what you see? Visit the ' +\n",
              "            '<a target=\"_blank\" href=https://colab.research.google.com/notebooks/data_table.ipynb>data table notebook</a>'\n",
              "            + ' to learn more about interactive tables.';\n",
              "          element.innerHTML = '';\n",
              "          dataTable['output_type'] = 'display_data';\n",
              "          await google.colab.output.renderOutput(dataTable, element);\n",
              "          const docLink = document.createElement('div');\n",
              "          docLink.innerHTML = docLinkHtml;\n",
              "          element.appendChild(docLink);\n",
              "        }\n",
              "      </script>\n",
              "    </div>\n",
              "  </div>\n",
              "  "
            ]
          },
          "metadata": {},
          "execution_count": 51
        }
      ]
    },
    {
      "cell_type": "markdown",
      "source": [
        "Dari perbandingan yang sudah dilakukan dapat dilihat bahwa algoritma Random Forest merupakan algoritma terbaik untuk mengklasifikasikan dataset Fire Alarm karena memiliki akurasi 100% dibandingkan Support Vector Machine dan K-Nearest Neighbor. Algoritma terbaik kedua yaitu Support Vector Machine karena meskipun memiliki nilai akurasi yang sama seperti K-Nearest Neighbor, akan tetapi ketika dilihat dari nilai MAE kedua algoritma tersebut, dapat dilihat bahwa nilai MAE SVM lebih kecil dibandingkan KNN sehingga SVM bisa dikatakan lebih baik dari KNN. Kesimpulan dari perbandingan algoritma ini yaitu tingkat akurasi terbaik ialah:\n",
        "* Random Forest\n",
        "* Support Vector Machine\n",
        "* K-Nearest Neighbor"
      ],
      "metadata": {
        "id": "yIL0EDLo7zZw"
      }
    }
  ]
}